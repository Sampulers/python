{
 "cells": [
  {
   "cell_type": "markdown",
   "id": "7810f9c8-003e-4882-adcd-805d1fc95947",
   "metadata": {},
   "source": [
    "**Lambda**\n",
    "\n",
    "\n",
    "$Pattern - 1$"
   ]
  },
  {
   "cell_type": "code",
   "execution_count": 1,
   "id": "3fcf696c-e50e-4640-b308-0f386b51267d",
   "metadata": {},
   "outputs": [
    {
     "data": {
      "text/plain": [
       "600"
      ]
     },
     "execution_count": 1,
     "metadata": {},
     "output_type": "execute_result"
    }
   ],
   "source": [
    "def mul(num):\n",
    "    return num*20\n",
    "\n",
    "mul(30)"
   ]
  },
  {
   "cell_type": "code",
   "execution_count": 2,
   "id": "1888ae44-a702-4682-b4fb-7908724478a9",
   "metadata": {},
   "outputs": [
    {
     "data": {
      "text/plain": [
       "600"
      ]
     },
     "execution_count": 2,
     "metadata": {},
     "output_type": "execute_result"
    }
   ],
   "source": [
    "mul = lambda num : num*20\n",
    "mul(30)"
   ]
  },
  {
   "cell_type": "code",
   "execution_count": 3,
   "id": "50a4e203-4eb0-444b-ada9-ece2dd055ea7",
   "metadata": {},
   "outputs": [
    {
     "data": {
      "text/plain": [
       "8000"
      ]
     },
     "execution_count": 3,
     "metadata": {},
     "output_type": "execute_result"
    }
   ],
   "source": [
    "def cube(x):\n",
    "    return(x*x*x)\n",
    "\n",
    "cube(20)"
   ]
  },
  {
   "cell_type": "code",
   "execution_count": 4,
   "id": "9aed269a-3f70-42b1-ae44-8d7546a03b8b",
   "metadata": {},
   "outputs": [
    {
     "data": {
      "text/plain": [
       "8000"
      ]
     },
     "execution_count": 4,
     "metadata": {},
     "output_type": "execute_result"
    }
   ],
   "source": [
    "cube = lambda x : x*x*x\n",
    "cube(20)"
   ]
  },
  {
   "cell_type": "markdown",
   "id": "182fc456-7ea4-41b0-adab-79df513b19d1",
   "metadata": {},
   "source": [
    "$Pattern - 2$\n",
    "\n",
    "*Two arguments*"
   ]
  },
  {
   "cell_type": "code",
   "execution_count": 5,
   "id": "9e408293-b750-424d-89d2-6070b0355c85",
   "metadata": {},
   "outputs": [
    {
     "data": {
      "text/plain": [
       "30"
      ]
     },
     "execution_count": 5,
     "metadata": {},
     "output_type": "execute_result"
    }
   ],
   "source": [
    "def sub(n1,n2):\n",
    "    return(n1-n2)\n",
    "\n",
    "sub(50,20)"
   ]
  },
  {
   "cell_type": "code",
   "execution_count": 6,
   "id": "03394c77-e0f4-407d-9b3c-de1159c94f55",
   "metadata": {},
   "outputs": [
    {
     "data": {
      "text/plain": [
       "30"
      ]
     },
     "execution_count": 6,
     "metadata": {},
     "output_type": "execute_result"
    }
   ],
   "source": [
    "sub = lambda n1,n2 : n1-n2\n",
    "sub(50,20)"
   ]
  },
  {
   "cell_type": "code",
   "execution_count": 7,
   "id": "f01e829f-d334-44bd-bea2-46ac5e8815a4",
   "metadata": {},
   "outputs": [
    {
     "data": {
      "text/plain": [
       "20.0"
      ]
     },
     "execution_count": 7,
     "metadata": {},
     "output_type": "execute_result"
    }
   ],
   "source": [
    "def average(n1,n2,n3):\n",
    "    return((n1+n2+n3)/3)\n",
    "\n",
    "average(10,20,30)"
   ]
  },
  {
   "cell_type": "code",
   "execution_count": 8,
   "id": "f7724981-38d7-4847-a602-6a7980406ec2",
   "metadata": {},
   "outputs": [
    {
     "data": {
      "text/plain": [
       "20.0"
      ]
     },
     "execution_count": 8,
     "metadata": {},
     "output_type": "execute_result"
    }
   ],
   "source": [
    "average = lambda n1,n2,n3 : (n1+n2+n3)/3\n",
    "average(10,20,30)"
   ]
  },
  {
   "cell_type": "markdown",
   "id": "932eb86b-5d69-485a-8ce5-f4543a333bd0",
   "metadata": {},
   "source": [
    "$Pattern - 3$\n",
    "\n",
    "*Default Parameters*"
   ]
  },
  {
   "cell_type": "code",
   "execution_count": 9,
   "id": "d1cdf769-1511-477e-b819-faf563f27d45",
   "metadata": {},
   "outputs": [
    {
     "data": {
      "text/plain": [
       "30"
      ]
     },
     "execution_count": 9,
     "metadata": {},
     "output_type": "execute_result"
    }
   ],
   "source": [
    "sub = lambda n1,n2=20 : n1-n2\n",
    "sub(50)"
   ]
  },
  {
   "cell_type": "code",
   "execution_count": 10,
   "id": "eadc1604-e7c0-4ec4-94f3-40424b08565e",
   "metadata": {},
   "outputs": [
    {
     "data": {
      "text/plain": [
       "20.0"
      ]
     },
     "execution_count": 10,
     "metadata": {},
     "output_type": "execute_result"
    }
   ],
   "source": [
    "average = lambda n1,n2,n3=30 : (n1+n2+n3)/3\n",
    "average(10,20)"
   ]
  },
  {
   "cell_type": "markdown",
   "id": "eaa38d06-cca6-4a4c-aa83-c64866aaf12e",
   "metadata": {},
   "source": [
    "$Pattern - 4$\n",
    "\n",
    "*if-else*"
   ]
  },
  {
   "cell_type": "code",
   "execution_count": 11,
   "id": "49c30ef9-666f-4dc4-bf1c-cbbed9727b0a",
   "metadata": {},
   "outputs": [
    {
     "data": {
      "text/plain": [
       "10"
      ]
     },
     "execution_count": 11,
     "metadata": {},
     "output_type": "execute_result"
    }
   ],
   "source": [
    "def maxx(n1,n2):\n",
    "    if n1>n2:\n",
    "        return n1\n",
    "    else:\n",
    "        return n2\n",
    "\n",
    "maxx(10,5)"
   ]
  },
  {
   "cell_type": "code",
   "execution_count": 12,
   "id": "0872ae61-2da2-4329-bb96-421d0545fe2a",
   "metadata": {},
   "outputs": [
    {
     "data": {
      "text/plain": [
       "10"
      ]
     },
     "execution_count": 12,
     "metadata": {},
     "output_type": "execute_result"
    }
   ],
   "source": [
    "maxx = lambda n1,n2 : n1 if n1>n2 else n2\n",
    "maxx(10,5)"
   ]
  },
  {
   "cell_type": "code",
   "execution_count": 13,
   "id": "e8b6b854-5325-428a-b3a0-f8098d9fbd92",
   "metadata": {},
   "outputs": [
    {
     "data": {
      "text/plain": [
       "30"
      ]
     },
     "execution_count": 13,
     "metadata": {},
     "output_type": "execute_result"
    }
   ],
   "source": [
    "def average(n1,n2,n3 =30):\n",
    "    if n1 == n2:\n",
    "        return n3    # average = (n1+n2+n3)/3\n",
    "    else:\n",
    "        return n1\n",
    "\n",
    "average(30,30)"
   ]
  },
  {
   "cell_type": "code",
   "execution_count": 14,
   "id": "b89f71fa-c8bd-4a08-8e31-a91cd0db3452",
   "metadata": {},
   "outputs": [
    {
     "data": {
      "text/plain": [
       "30"
      ]
     },
     "execution_count": 14,
     "metadata": {},
     "output_type": "execute_result"
    }
   ],
   "source": [
    "average = lambda n1,n2,n3 = 30 : n3 if n1==n2 else n1\n",
    "average(30,30)"
   ]
  },
  {
   "cell_type": "markdown",
   "id": "b08f116f-87b8-4a2e-8959-d54a7f5a6252",
   "metadata": {},
   "source": [
    "$Pattern - 5$\n",
    "\n",
    "*Using list*"
   ]
  },
  {
   "cell_type": "code",
   "execution_count": 15,
   "id": "deb1f19b-0124-4160-bb20-d99cb641514f",
   "metadata": {},
   "outputs": [
    {
     "data": {
      "text/plain": [
       "['Hyd', 'Chennai', 'Blr']"
      ]
     },
     "execution_count": 15,
     "metadata": {},
     "output_type": "execute_result"
    }
   ],
   "source": [
    "l = ['hyd', 'chennai', 'blr']\n",
    "Cap = []\n",
    "for i in l:\n",
    "    Cap.append(i.capitalize())\n",
    "\n",
    "Cap"
   ]
  },
  {
   "cell_type": "code",
   "execution_count": 16,
   "id": "3e68b7b2-86b3-4744-9e54-5422097452ab",
   "metadata": {},
   "outputs": [
    {
     "data": {
      "text/plain": [
       "['Hyd', 'Chennai', 'Blr']"
      ]
     },
     "execution_count": 16,
     "metadata": {},
     "output_type": "execute_result"
    }
   ],
   "source": [
    "Cap = [i.capitalize() for i in l]\n",
    "Cap"
   ]
  },
  {
   "cell_type": "markdown",
   "id": "ad4655a7-bb77-414f-ab3a-fad97b859e31",
   "metadata": {},
   "source": [
    "-$map$-"
   ]
  },
  {
   "cell_type": "code",
   "execution_count": 17,
   "id": "f0821be9-ee32-4487-b739-c8666b7ff02b",
   "metadata": {},
   "outputs": [
    {
     "data": {
      "text/plain": [
       "['Hyd', 'Chennai', 'Blr']"
      ]
     },
     "execution_count": 17,
     "metadata": {},
     "output_type": "execute_result"
    }
   ],
   "source": [
    "l=['hyd','chennai','blr']\n",
    "list(map(lambda i:i.capitalize(),l))"
   ]
  },
  {
   "cell_type": "code",
   "execution_count": 18,
   "id": "416e317a-0862-4aae-a592-ed6c401fbd76",
   "metadata": {},
   "outputs": [
    {
     "data": {
      "text/plain": [
       "['Hyd', 'Chennai', 'Blr']"
      ]
     },
     "execution_count": 18,
     "metadata": {},
     "output_type": "execute_result"
    }
   ],
   "source": [
    "l=['hyd','chennai','blr']\n",
    "Cap=[]\n",
    "for i in l:\n",
    "    Cap.append(i.capitalize())\n",
    "\n",
    "# lambda\n",
    "Cap = [i.capitalize() for i in l]\n",
    "Cap"
   ]
  },
  {
   "cell_type": "code",
   "execution_count": 19,
   "id": "e54c3e23-9c74-403a-a038-4c031fb1f851",
   "metadata": {},
   "outputs": [
    {
     "data": {
      "text/plain": [
       "<map at 0x1246eae86d0>"
      ]
     },
     "execution_count": 19,
     "metadata": {},
     "output_type": "execute_result"
    }
   ],
   "source": [
    "l=['hyd','chen#nai','blr','Mumb#i']\n",
    "#  create a list words having '#' using lambda functions\n",
    "map(lambda i:i.capitalize(),l)"
   ]
  },
  {
   "cell_type": "markdown",
   "id": "684543d7-035a-427e-b22d-c566e07be428",
   "metadata": {},
   "source": [
    "-$filter$-"
   ]
  },
  {
   "cell_type": "code",
   "execution_count": 20,
   "id": "79d95496-8009-4bb8-ae38-f2d25aa2d309",
   "metadata": {},
   "outputs": [
    {
     "data": {
      "text/plain": [
       "['chen#nai', 'Mumb#i']"
      ]
     },
     "execution_count": 20,
     "metadata": {},
     "output_type": "execute_result"
    }
   ],
   "source": [
    "l=['hyd','chen#nai','blr','Mumb#i']\n",
    "list(filter(lambda i : '#' in i, l))"
   ]
  },
  {
   "cell_type": "code",
   "execution_count": 21,
   "id": "ac4bcdbd-7df6-4d3b-ac6b-3c91f8d1f0ae",
   "metadata": {},
   "outputs": [
    {
     "data": {
      "text/plain": [
       "['chen#nai', 'Mumb#i']"
      ]
     },
     "execution_count": 21,
     "metadata": {},
     "output_type": "execute_result"
    }
   ],
   "source": [
    "list(filter(lambda i : i.find('#')>0, l))"
   ]
  },
  {
   "cell_type": "code",
   "execution_count": 22,
   "id": "18fbf94d-df96-4444-b4c7-ad1cc737792b",
   "metadata": {},
   "outputs": [
    {
     "name": "stdout",
     "output_type": "stream",
     "text": [
      "chen#nai\n",
      "Mumb#i\n"
     ]
    }
   ],
   "source": [
    "for i in l:\n",
    "    if '#' in i:\n",
    "        print(i)"
   ]
  },
  {
   "cell_type": "code",
   "execution_count": 23,
   "id": "ac442c9c-6a6c-446b-a1e8-96ccf53c39e7",
   "metadata": {},
   "outputs": [
    {
     "name": "stdout",
     "output_type": "stream",
     "text": [
      "Hyd\n",
      "Chen#nai\n",
      "Blr\n",
      "Mumb#i\n"
     ]
    }
   ],
   "source": [
    "for i in l:\n",
    "    print(i.capitalize())"
   ]
  },
  {
   "cell_type": "code",
   "execution_count": null,
   "id": "741d239f-6bfc-4111-bdfd-537319f09079",
   "metadata": {},
   "outputs": [],
   "source": []
  }
 ],
 "metadata": {
  "kernelspec": {
   "display_name": "Python 3 (ipykernel)",
   "language": "python",
   "name": "python3"
  },
  "language_info": {
   "codemirror_mode": {
    "name": "ipython",
    "version": 3
   },
   "file_extension": ".py",
   "mimetype": "text/x-python",
   "name": "python",
   "nbconvert_exporter": "python",
   "pygments_lexer": "ipython3",
   "version": "3.11.7"
  },
  "widgets": {
   "application/vnd.jupyter.widget-state+json": {
    "state": {},
    "version_major": 2,
    "version_minor": 0
   }
  }
 },
 "nbformat": 4,
 "nbformat_minor": 5
}
