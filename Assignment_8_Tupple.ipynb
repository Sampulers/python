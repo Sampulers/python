{
 "cells": [
  {
   "cell_type": "markdown",
   "id": "a084a8f0-27f4-414b-b99b-26ca5dde0795",
   "metadata": {},
   "source": [
    "**tupple**\n",
    "\n",
    "- tupples are denoted by ()\n",
    "- tupples are immutable"
   ]
  },
  {
   "cell_type": "markdown",
   "id": "de15b304-8008-41fb-9eae-d4bad2e054d3",
   "metadata": {},
   "source": [
    "**Tupple Operations**\n",
    "\n",
    "- Common operations performed on tupple\n",
    "     1) Indexing\n",
    "     2) Slicing\n",
    "     3) Concatenation\n",
    "     4) Repetition"
   ]
  },
  {
   "cell_type": "code",
   "execution_count": 1,
   "id": "698adc76-b372-4131-b744-000b226edc90",
   "metadata": {},
   "outputs": [
    {
     "name": "stdout",
     "output_type": "stream",
     "text": [
      "a\n",
      "b\n",
      "c\n",
      "d\n"
     ]
    }
   ],
   "source": [
    "# 1) Indexing\n",
    "\n",
    "name = ('a', 'b', 'c', 'd')\n",
    "print(name[0]) \n",
    "print(name[1]) \n",
    "print(name[2])\n",
    "print(name[3])"
   ]
  },
  {
   "cell_type": "code",
   "execution_count": 2,
   "id": "3935d74b-a8fe-4927-bbfc-4d40bd65e106",
   "metadata": {},
   "outputs": [
    {
     "name": "stdout",
     "output_type": "stream",
     "text": [
      "('b', 'c', 'd')\n"
     ]
    }
   ],
   "source": [
    "# 2) Slicing\n",
    "\n",
    "name = ('a', 'b', 'c', 'd', 'e')\n",
    "print(name[1:4]) "
   ]
  },
  {
   "cell_type": "code",
   "execution_count": 3,
   "id": "a982d107-ceb3-4828-8e75-aea0c1be1b56",
   "metadata": {},
   "outputs": [
    {
     "name": "stdout",
     "output_type": "stream",
     "text": [
      "(1, 2, 3, 'a', 'b', 'c')\n"
     ]
    }
   ],
   "source": [
    "#3) Concatenation\n",
    "\n",
    "name1 = (1, 2, 3)\n",
    "name2 = ('a', 'b', 'c')\n",
    "concatenate = name1 + name2\n",
    "print(concatenate) "
   ]
  },
  {
   "cell_type": "code",
   "execution_count": 4,
   "id": "3c583919-33d6-4831-86a1-71ec70ea9219",
   "metadata": {},
   "outputs": [
    {
     "name": "stdout",
     "output_type": "stream",
     "text": [
      " hello_world  hello_world  hello_world \n"
     ]
    }
   ],
   "source": [
    "# 4) Repetition\n",
    "\n",
    "name = (\" hello_world \")\n",
    "repeate = name * 3\n",
    "print(repeate) "
   ]
  },
  {
   "cell_type": "markdown",
   "id": "b1c26e31-e261-47a4-891a-24d4b821421d",
   "metadata": {},
   "source": [
    "**Tupple Methods**\n",
    "\n",
    "  - Count method\n",
    "  - Index method"
   ]
  },
  {
   "cell_type": "code",
   "execution_count": 5,
   "id": "38cc2064-7523-49b2-a34e-46fcc006142f",
   "metadata": {},
   "outputs": [
    {
     "name": "stdout",
     "output_type": "stream",
     "text": [
      "Number of occurrences of 2 is : 3\n"
     ]
    }
   ],
   "source": [
    "# Count\n",
    "\n",
    "name = (1, 2, 3, 2, 4, 2)\n",
    "count_name = name.count(2)\n",
    "print(\"Number of occurrences of 2 is :\", count_name)  "
   ]
  },
  {
   "cell_type": "code",
   "execution_count": 6,
   "id": "1dbbe8ad-fe3d-47c6-bef3-56e630c16b01",
   "metadata": {},
   "outputs": [
    {
     "name": "stdout",
     "output_type": "stream",
     "text": [
      "Index of 'a' is : 0\n"
     ]
    }
   ],
   "source": [
    "# Index\n",
    "\n",
    "name = ('a', 'b', 'c', 'a', 'd')\n",
    "index_name = name.index('a')\n",
    "print(\"Index of 'a' is :\", index_name)  "
   ]
  },
  {
   "cell_type": "markdown",
   "id": "f13831d8-5ae1-4279-ac15-3a18b5cdfa1a",
   "metadata": {},
   "source": [
    "**Used Cases**\n",
    "\n",
    "- Representing coordinates (x,y) in a geometry.\n",
    "- Storing metadata associated with files.\n",
    "- Returning multiple values from functions."
   ]
  }
 ],
 "metadata": {
  "kernelspec": {
   "display_name": "Python 3 (ipykernel)",
   "language": "python",
   "name": "python3"
  },
  "language_info": {
   "codemirror_mode": {
    "name": "ipython",
    "version": 3
   },
   "file_extension": ".py",
   "mimetype": "text/x-python",
   "name": "python",
   "nbconvert_exporter": "python",
   "pygments_lexer": "ipython3",
   "version": "3.11.7"
  },
  "widgets": {
   "application/vnd.jupyter.widget-state+json": {
    "state": {},
    "version_major": 2,
    "version_minor": 0
   }
  }
 },
 "nbformat": 4,
 "nbformat_minor": 5
}
