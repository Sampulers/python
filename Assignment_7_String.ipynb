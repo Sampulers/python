{
 "cells": [
  {
   "cell_type": "code",
   "execution_count": 1,
   "id": "68ca4a23-b722-4d36-af72-272d3aab0f31",
   "metadata": {},
   "outputs": [
    {
     "name": "stdin",
     "output_type": "stream",
     "text": [
      " enter a string:  kya kar raha hai\n"
     ]
    },
    {
     "name": "stdout",
     "output_type": "stream",
     "text": [
      "16\n",
      "kya kar raha hai\n",
      "kya kar raha hai\n",
      "kya kar raha hai\n",
      "kya kar raha hai\n",
      "kya kar raha hai\n",
      "kya kar raha hai\n",
      "kya kar raha hai\n",
      "kya kar raha hai\n",
      "kya kar raha hai\n",
      "kya kar raha hai\n",
      "k\n",
      "kya\n",
      "hai\n",
      "iah ahar rak ayk\n",
      " \n",
      "ya kar raha hai\n",
      "kya kar raha ha\n",
      "KYA KAR RAHA HAI\n",
      "kye ker rehe hei\n"
     ]
    }
   ],
   "source": [
    "# Q1. Write a program that asks the user to enter a string. The program should then print the following: \n",
    "#(a) The total number of characters in the string \n",
    "#(b) The string repeated 10 times\n",
    "#(c) The first character of the string (remember that string indices start at 0)\n",
    "#(d) The first three characters of the string \n",
    "#(e) The last three characters of the string\n",
    "#(f) The string backwards\n",
    "#(g) The seventh character of the string if the string is long enough and a message otherwise\n",
    "#(h) The string with its first and last characters removed\n",
    "#(i) The string in all caps\n",
    "#(j) The string with every a replaced with an e\n",
    "\n",
    "\n",
    "s1=input(\" enter a string: \")\n",
    "print(len(s1))\n",
    "\n",
    "##########################################\n",
    "for i in range(10):\n",
    "    print(s1)\n",
    "\n",
    "#############################################\n",
    "s2=s1[0]\n",
    "print(s2)\n",
    "#############################################\n",
    "s3=s1[0:3]\n",
    "print(s3)\n",
    "############################################\n",
    "s4=s1[13::1]\n",
    "print(s4)\n",
    "######################################\n",
    "s5=s1[-1::-1]\n",
    "print(s5)\n",
    "###########################################\n",
    "\n",
    "if len(s1)>7:\n",
    "    print(s1[7])\n",
    "else:\n",
    "    print(f\"String is short\")\n",
    "\n",
    "########################################\n",
    "\n",
    "print(s1.strip('k'))\n",
    "print(s1.strip('i'))\n",
    "print(s1.upper())\n",
    "print(s1.replace('a','e'))\n"
   ]
  },
  {
   "cell_type": "code",
   "execution_count": 2,
   "id": "492f8085-ddf9-4762-b4d1-122e41b0ed26",
   "metadata": {},
   "outputs": [
    {
     "name": "stdin",
     "output_type": "stream",
     "text": [
      "enter a string:  kya kar raha hai\n"
     ]
    },
    {
     "name": "stdout",
     "output_type": "stream",
     "text": [
      "Total word count = 4\n",
      "Total spaces count = 3\n",
      "Total word and spaces: 7\n"
     ]
    }
   ],
   "source": [
    "# Q2. A simple way to estimate the number of words in a string is to count the number of spaces in the \n",
    "#    string. Write a program that asks the user for a string and returns an estimate of how many words \n",
    "#    are in the string.\n",
    "#    Tip: You need to count the number of words using spaces\n",
    "\n",
    "\n",
    "ss=input(\"enter a string: \")\n",
    "count=0\n",
    "space=0\n",
    "word=ss.split()\n",
    "for i in word:\n",
    "    if i in ss:\n",
    "        count+=1\n",
    "\n",
    "for j in range(len(ss)):\n",
    "    if ss[j] == \" \":\n",
    "        space = space+1\n",
    "        \n",
    "print(f'Total word count = {count}')\n",
    "print(f'Total spaces count = {space}')\n",
    "print(f'Total word and spaces: {count+space}')"
   ]
  },
  {
   "cell_type": "code",
   "execution_count": 3,
   "id": "26d8c56d-2031-4e94-9496-9b6f29d03942",
   "metadata": {},
   "outputs": [
    {
     "name": "stdin",
     "output_type": "stream",
     "text": [
      "enter a word:  handkarchief\n"
     ]
    },
    {
     "name": "stdout",
     "output_type": "stream",
     "text": [
      "a\n",
      "a\n",
      "i\n",
      "e\n"
     ]
    }
   ],
   "source": [
    "# Q3. Write a program that asks the user to enter a word and prints out whether that word contains any vowels\n",
    "\n",
    "ss=input(\"enter a word: \")\n",
    "for i in ss:\n",
    "    if i in 'aeiou':\n",
    "        print(i)"
   ]
  },
  {
   "cell_type": "code",
   "execution_count": 4,
   "id": "fd15d97e-8a52-4780-a48a-36c99bad1f93",
   "metadata": {},
   "outputs": [
    {
     "name": "stdin",
     "output_type": "stream",
     "text": [
      "enter a word:  handkarchief\n"
     ]
    },
    {
     "name": "stdout",
     "output_type": "stream",
     "text": [
      " aie\n"
     ]
    }
   ],
   "source": [
    "# Q4. Improvise above code by providing unique vowels\n",
    "s1=' '\n",
    "ss=input(\"enter a word: \")\n",
    "for i in ss:\n",
    "    if i in 'aeiou' and i not in s1:\n",
    "        s1=s1+i\n",
    "        \n",
    "        \n",
    "print(s1)"
   ]
  },
  {
   "cell_type": "code",
   "execution_count": 5,
   "id": "2f92340b-5487-4a14-9a8c-ca73b4542557",
   "metadata": {},
   "outputs": [
    {
     "name": "stdin",
     "output_type": "stream",
     "text": [
      "enter a string handkarchief\n"
     ]
    },
    {
     "name": "stdout",
     "output_type": "stream",
     "text": [
      "new_string: h*ndkarchief\n",
      "new_string: h*ndkarchief!!!\n"
     ]
    }
   ],
   "source": [
    "# Q5. Write a program that asks the user to enter a string. The program should create a new string \n",
    "#     called new_string from the user’s string such that the second character is changed to an asterisk and \n",
    "#     three exclamation points are attached to the end of the string. Finally, print new_string. \n",
    "#     Typical output is shown below: \n",
    "#     Enter your string: Qbert \n",
    "#     Output:  Q*ert!!!\n",
    "\n",
    "\n",
    "ss=input(\"enter a string\")\n",
    "s1=ss.replace('a','*',1)\n",
    "print(f\"new_string: {s1}\")\n",
    "print(f\"new_string: {s1+'!!!'}\")"
   ]
  },
  {
   "cell_type": "code",
   "execution_count": 6,
   "id": "a991932b-8b77-4c93-a142-9d71b55ce3e6",
   "metadata": {},
   "outputs": [
    {
     "name": "stdin",
     "output_type": "stream",
     "text": [
      "enter a word:  madam\n"
     ]
    },
    {
     "name": "stdout",
     "output_type": "stream",
     "text": [
      "word is a palindrome\n"
     ]
    }
   ],
   "source": [
    "# Q6. Write a program that asks the user to enter a word and determines whether the word is a \n",
    "#     palindrome or not. A palindrome is a word that reads the same backwards as forwards\n",
    "\n",
    "\n",
    "ss=input(\"enter a word: \")\n",
    "if ss == ss[::-1]:\n",
    "    print(f\"word is a palindrome\")\n",
    "else:\n",
    "    print(f\"word not a palindrome\")"
   ]
  },
  {
   "cell_type": "code",
   "execution_count": 7,
   "id": "11e84b42-7830-4d92-8808-d176bfa23141",
   "metadata": {},
   "outputs": [
    {
     "name": "stdin",
     "output_type": "stream",
     "text": [
      "How many email addresses will be entering:  5\n",
      "Enter email address 1:  boys@student.college.edu\n"
     ]
    },
    {
     "name": "stdout",
     "output_type": "stream",
     "text": [
      "All addresses are student addresses.\n"
     ]
    },
    {
     "name": "stdin",
     "output_type": "stream",
     "text": [
      "Enter email address 2:  boys@student.college.edu\n"
     ]
    },
    {
     "name": "stdout",
     "output_type": "stream",
     "text": [
      "All addresses are student addresses.\n"
     ]
    },
    {
     "name": "stdin",
     "output_type": "stream",
     "text": [
      "Enter email address 3:  girls@student.college.edu\n"
     ]
    },
    {
     "name": "stdout",
     "output_type": "stream",
     "text": [
      "All addresses are student addresses.\n"
     ]
    },
    {
     "name": "stdin",
     "output_type": "stream",
     "text": [
      "Enter email address 4:  girls@student.college.edu\n"
     ]
    },
    {
     "name": "stdout",
     "output_type": "stream",
     "text": [
      "All addresses are student addresses.\n"
     ]
    },
    {
     "name": "stdin",
     "output_type": "stream",
     "text": [
      "Enter email address 5:  teacher@prof.college.edu\n"
     ]
    },
    {
     "name": "stdout",
     "output_type": "stream",
     "text": [
      "There were some student and some professor addresses entered.\n"
     ]
    }
   ],
   "source": [
    "# Q7. At a certain school, student email addresses end with @student.college.edu, while professor \n",
    "#    email addresses end with @prof.college.edu. Write a program that first asks the user how many \n",
    "#    email addresses they will be entering, and then has the user enter those addresses. After all the \n",
    "#    email addresses are entered, the program should print out a message indicating either that all the \n",
    "#    addresses are student addresses or that there were some professor addresses entered.\n",
    "\n",
    "\n",
    "emails = int(input(\"How many email addresses will be entering: \"))\n",
    "stu_emails = 0\n",
    "prof_emails = 0\n",
    "    \n",
    "for i in range(emails):\n",
    "    email = input(f\"Enter email address {i+1}: \")\n",
    "    if email.endswith(\"@student.college.edu\"):\n",
    "        stu_emails += 1\n",
    "    elif email.endswith(\"@prof.college.edu\"):\n",
    "        prof_emails += 1\n",
    "    \n",
    "    if prof_emails == 0:\n",
    "        print(\"All addresses are student addresses.\")\n",
    "    elif stu_emails == 0:\n",
    "        print(\"All addresses are professor addresses.\")\n",
    "    else:\n",
    "        print(\"There were some student and some professor addresses entered.\")\n"
   ]
  },
  {
   "cell_type": "code",
   "execution_count": 8,
   "id": "b93b8727-7cbe-464b-a41c-bb9be25833f2",
   "metadata": {},
   "outputs": [
    {
     "name": "stdin",
     "output_type": "stream",
     "text": [
      "enter a string:  HEY RAM\n"
     ]
    },
    {
     "name": "stdout",
     "output_type": "stream",
     "text": [
      "HH\n",
      "EE\n",
      "YY\n",
      "  \n",
      "RR\n",
      "AA\n",
      "MM\n"
     ]
    }
   ],
   "source": [
    "# Q8. Write a program that asks the user to enter a string, then prints out each letter of the string \n",
    "#     doubled and on a separate line. For instance, \n",
    "#     if the user entered HEY, \n",
    "#     the output would be \n",
    "#     HH \n",
    "#     EE \n",
    "#     YY\n",
    "\n",
    "\n",
    "ss=input(\"enter a string: \")\n",
    "for i in ss:\n",
    "    print(i*2)\n",
    "    "
   ]
  },
  {
   "cell_type": "code",
   "execution_count": 9,
   "id": "f7f9c491-6132-4602-ba4d-d0bad998e47a",
   "metadata": {},
   "outputs": [
    {
     "name": "stdin",
     "output_type": "stream",
     "text": [
      "enter a string:  buffalo\n"
     ]
    },
    {
     "name": "stdout",
     "output_type": "stream",
     "text": [
      "buffa\n",
      "lo\n"
     ]
    }
   ],
   "source": [
    "# Q9. Write a program that asks the user to enter a word that contains the letter a. The program should \n",
    "#     then print the following two lines: On the first line should be the part of the string up to and \n",
    "#     including the first a, and on the second line should be the rest of the string. \n",
    "#     Sample output is shown below: \n",
    "#     Enter a word: buffalo \n",
    "#     buffa \n",
    "#     lo\n",
    "\n",
    "\n",
    "ss=input(\"enter a string: \")\n",
    "print(ss[:5])\n",
    "print(ss[5:7])"
   ]
  },
  {
   "cell_type": "code",
   "execution_count": 10,
   "id": "0dc3fa6e-f6aa-44e0-958c-4f9694913185",
   "metadata": {},
   "outputs": [
    {
     "name": "stdin",
     "output_type": "stream",
     "text": [
      "enter a string:  rhinoceros\n"
     ]
    },
    {
     "name": "stdout",
     "output_type": "stream",
     "text": [
      "rHiNoCeRoS\n"
     ]
    }
   ],
   "source": [
    "# Q10. Write a program that asks the user to enter a word and then capitalizes every other letter of that word. \n",
    "#      So if the user enters rhinoceros, \n",
    "#      the program should print rHiNoCeRoS.\n",
    "\n",
    "str1=input(\"enter a string: \")\n",
    "str2=[]\n",
    "for i, ch in enumerate(str1):\n",
    "    if i%2==1:\n",
    "        str2.append(ch.capitalize())\n",
    "    else:\n",
    "        str2.append(ch)\n",
    "\n",
    "str3=\"\".join(str2)\n",
    "print(str3)"
   ]
  },
  {
   "cell_type": "code",
   "execution_count": 11,
   "id": "a2c5359d-88eb-47d7-99ba-c7cc174b2a71",
   "metadata": {},
   "outputs": [
    {
     "name": "stdin",
     "output_type": "stream",
     "text": [
      "enter a string:  ABCD\n",
      "enter a string:  abcd\n"
     ]
    },
    {
     "name": "stdout",
     "output_type": "stream",
     "text": [
      "AaBbCcDd\n"
     ]
    }
   ],
   "source": [
    "# Q11. Write a program that asks the user to enter two strings of the same length. The program should \n",
    "#      then check to see if the strings are of the same length. If they are not, the program should print an \n",
    "#      appropriate message and exit. If they are of the same length, the program should alternate the \n",
    "#      characters of the two strings. For example, \n",
    "#      if the user enters abcde and ABCDE \n",
    "#      the program should print out AaBbCcDdEe.\n",
    "\n",
    "s1=input(\"enter a string: \")\n",
    "s2=input(\"enter a string: \")\n",
    "s3=[]\n",
    "if len(s1) != len(s2):\n",
    "    print(f\"lenth of s1 and s2 are not same\")\n",
    "for i in range(len(s1)):\n",
    "    s3.append(s1[i])\n",
    "    s3.append(s2[i])\n",
    "    s4=''.join(s3)\n",
    "    \n",
    "print(s4)"
   ]
  },
  {
   "cell_type": "code",
   "execution_count": 12,
   "id": "dd3d5782-03f3-40fe-92c6-5f527f4427bb",
   "metadata": {},
   "outputs": [
    {
     "name": "stdin",
     "output_type": "stream",
     "text": [
      "enter a name:  ramnaresh kumar tripathi\n"
     ]
    },
    {
     "data": {
      "text/plain": [
       "'Ramnaresh Kumar Tripathi'"
      ]
     },
     "execution_count": 12,
     "metadata": {},
     "output_type": "execute_result"
    }
   ],
   "source": [
    "# Q12. Write a program that asks the user to enter their name in lowercase and then capitalizes the first \n",
    "#      letter of each word of their name.\n",
    "\n",
    "ss=input(\"enter a name: \")\n",
    "ss.title()"
   ]
  },
  {
   "cell_type": "code",
   "execution_count": 13,
   "id": "8e8fb629-6dde-404a-8772-b151c33e9670",
   "metadata": {},
   "outputs": [],
   "source": [
    "# Q13. The goal of this exercise is to see if you can mimic the behavior of the in operator and the count \n",
    "#      and index methods using only variables, for loops, and if statements. \n",
    "#      (a) Without using the in operator, write a program that asks the user for a string and a letter \n",
    "#      and prints out whether or not the letter appears in the string. \n",
    "#      (b) Without using the count method, write a program that asks the user for a string and a \n",
    "#      letter and counts how many occurrences there are of the letter in the string. \n",
    "#      (c) Without using the index method, write a program that asks the user for a string and a \n",
    "#      letter and prints out the index of the first occurrence of the letter in the string. If the letter is \n",
    "#      not in the string, the program should say sorry."
   ]
  },
  {
   "cell_type": "code",
   "execution_count": null,
   "id": "4feb9a4e-7513-4d88-a082-276dd96f3022",
   "metadata": {},
   "outputs": [],
   "source": []
  },
  {
   "cell_type": "code",
   "execution_count": 14,
   "id": "180b5918-f860-4fb5-9e14-83746ff2ff08",
   "metadata": {},
   "outputs": [
    {
     "name": "stdout",
     "output_type": "stream",
     "text": [
      "uct.ac.za\n"
     ]
    }
   ],
   "source": [
    "# Q14. Finding a substring within a string\n",
    "#      For example, if we were presented a series of lines formatted as follows:\n",
    "#      From stephen.marquard@uct.ac.za Sat Jan 5 09:14:16 2008\n",
    "#      and we wanted to pull out only the second half of the address (i.e., uct.ac.za)\n",
    "\n",
    "s1=\"stephen.marquard@uct.ac.za Sat Jan 5 09:14:16 2008\"\n",
    "first_dot_index=s1.find('.')\n",
    "at_the_rate_index=s1.find('@')\n",
    "second_dot_index=s1.find('.',first_dot_index+1)\n",
    "third_dot_index=s1.find('.',second_dot_index+2)\n",
    "\n",
    "\n",
    "first_name=s1[:first_dot_index]\n",
    "second_name=s1[first_dot_index+1:at_the_rate_index]\n",
    "company_name=s1[at_the_rate_index+1:second_dot_index+2]\n",
    "first_dot_company_name=s1[second_dot_index+2:third_dot_index+3]\n",
    "\n",
    "print(f\"{company_name+first_dot_company_name}\")"
   ]
  },
  {
   "cell_type": "code",
   "execution_count": 15,
   "id": "7e343b99-311a-4176-bed9-e8d00b9e35ff",
   "metadata": {},
   "outputs": [
    {
     "name": "stdin",
     "output_type": "stream",
     "text": [
      "enter a string:  flying\n"
     ]
    },
    {
     "name": "stdout",
     "output_type": "stream",
     "text": [
      "flyly\n"
     ]
    }
   ],
   "source": [
    "# Q15. Write a Python program to add 'ing' at the end of a given string (length should be at least 3). \n",
    "#      If the given string already ends with 'ing' then add 'ly' instead. \n",
    "#      If the string length of the given string is less than 3, leave it unchanged. \n",
    "#      Go to the editor \n",
    "#      Sample String : 'abc' \n",
    "#      Expected Result : 'abcing' \n",
    "#      Sample String : 'string' \n",
    "#      Expected Result : 'stringly'\n",
    "\n",
    "\n",
    "str1=input(\"enter a string: \")\n",
    "if len(str1)<3:\n",
    "    print(\"Lenth of strinng not accepet\")\n",
    "elif str1.endswith('ing'):\n",
    "    print(str1.replace('ing', 'ly'))\n",
    "else:\n",
    "    print(str1+'ing')\n",
    "    "
   ]
  },
  {
   "cell_type": "code",
   "execution_count": 16,
   "id": "97366dd0-d4f2-4971-a765-a602d61b7736",
   "metadata": {},
   "outputs": [
    {
     "name": "stdout",
     "output_type": "stream",
     "text": [
      "0.8475\n"
     ]
    }
   ],
   "source": [
    "# Q16. Take the following Python code that stores a string:\n",
    "#      string = 'X-DSPAM-Confidence: 0.8475'\n",
    "#      Extract the portion of the string after the colon character and then use the float function to convert \n",
    "#      the extracted string into a floating point number.\n",
    "\n",
    "\n",
    "string = 'X-DSPAM-Confidence: 0.8475'\n",
    "colon_index = string.find(':')\n",
    "extracted_string = string[colon_index + 1:]\n",
    "extracted_string = extracted_string.strip()\n",
    "confidence = float(extracted_string)\n",
    "print(confidence)"
   ]
  },
  {
   "cell_type": "code",
   "execution_count": null,
   "id": "415b4abe-95e2-40df-bf48-48dca332c11b",
   "metadata": {},
   "outputs": [],
   "source": []
  }
 ],
 "metadata": {
  "kernelspec": {
   "display_name": "Python 3 (ipykernel)",
   "language": "python",
   "name": "python3"
  },
  "language_info": {
   "codemirror_mode": {
    "name": "ipython",
    "version": 3
   },
   "file_extension": ".py",
   "mimetype": "text/x-python",
   "name": "python",
   "nbconvert_exporter": "python",
   "pygments_lexer": "ipython3",
   "version": "3.11.7"
  },
  "widgets": {
   "application/vnd.jupyter.widget-state+json": {
    "state": {},
    "version_major": 2,
    "version_minor": 0
   }
  }
 },
 "nbformat": 4,
 "nbformat_minor": 5
}
